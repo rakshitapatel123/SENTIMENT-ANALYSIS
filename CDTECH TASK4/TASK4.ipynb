{
 "cells": [
  {
   "cell_type": "code",
   "execution_count": 2,
   "id": "726bcc69",
   "metadata": {},
   "outputs": [
    {
     "name": "stdout",
     "output_type": "stream",
     "text": [
      "Review: I love this product, it is amazing!\n",
      "Sentiment: POSITIVE\n",
      "\n",
      "Review: This is the worst experience ever.\n",
      "Sentiment: NEGATIVE\n",
      "\n",
      "Review: The movie was okay, not good, not bad.\n",
      "Sentiment: NEUTRAL\n",
      "\n",
      "Review: I am so happy with the service.\n",
      "Sentiment: POSITIVE\n",
      "\n",
      "Review: The food was terrible and I hate it.\n",
      "Sentiment: NEGATIVE\n",
      "\n",
      "Review: Great work, I am very satisfied!\n",
      "Sentiment: POSITIVE\n",
      "\n",
      "Review: Poor quality, not worth the price.\n",
      "Sentiment: NEGATIVE\n",
      "\n",
      "Review: Fantastic effort by the team!\n",
      "Sentiment: POSITIVE\n",
      "\n",
      "Review: Awful packaging, I am angry.\n",
      "Sentiment: NEGATIVE\n",
      "\n",
      "Review: It was nice, but could be better.\n",
      "Sentiment: POSITIVE\n",
      "\n"
     ]
    },
    {
     "data": {
      "image/png": "[encoded data removed]",
      "text/plain": [
       "<Figure size 600x400 with 1 Axes>"
      ]
     },
     "metadata": {},
     "output_type": "display_data"
    }
   ],
   "source": [
    "# 📌 Internship Task - Sentiment Analysis (Pure Python + Matplotlib)\n",
    "\n",
    "import matplotlib.pyplot as plt\n",
    "\n",
    "# Step 1: Define simple positive and negative word lists\n",
    "positive_words = [\"good\", \"great\", \"happy\", \"excellent\", \"amazing\", \"love\", \"fantastic\", \"wonderful\", \"positive\", \"nice\"]\n",
    "negative_words = [\"bad\", \"sad\", \"terrible\", \"awful\", \"worst\", \"hate\", \"horrible\", \"negative\", \"angry\", \"poor\"]\n",
    "\n",
    "# Step 2: Sentiment analyzer function\n",
    "def analyze_sentiment(text):\n",
    "    text = text.lower()\n",
    "    pos_count = sum(word in text for word in positive_words)\n",
    "    neg_count = sum(word in text for word in negative_words)\n",
    "\n",
    "    if pos_count > neg_count:\n",
    "        return \"POSITIVE\"\n",
    "    elif neg_count > pos_count:\n",
    "        return \"NEGATIVE\"\n",
    "    else:\n",
    "        return \"NEUTRAL\"\n",
    "\n",
    "# Step 3: Example dataset (you can replace with your own data)\n",
    "reviews = [\n",
    "    \"I love this product, it is amazing!\",\n",
    "    \"This is the worst experience ever.\",\n",
    "    \"The movie was okay, not good, not bad.\",\n",
    "    \"I am so happy with the service.\",\n",
    "    \"The food was terrible and I hate it.\",\n",
    "    \"Great work, I am very satisfied!\",\n",
    "    \"Poor quality, not worth the price.\",\n",
    "    \"Fantastic effort by the team!\",\n",
    "    \"Awful packaging, I am angry.\",\n",
    "    \"It was nice, but could be better.\"\n",
    "]\n",
    "\n",
    "# Step 4: Run analysis\n",
    "results = [(review, analyze_sentiment(review)) for review in reviews]\n",
    "\n",
    "# Step 5: Print results\n",
    "for review, sentiment in results:\n",
    "    print(f\"Review: {review}\\nSentiment: {sentiment}\\n\")\n",
    "\n",
    "# Step 6: Count sentiment distribution\n",
    "sentiment_counts = {\"POSITIVE\": 0, \"NEGATIVE\": 0, \"NEUTRAL\": 0}\n",
    "for _, sentiment in results:\n",
    "    sentiment_counts[sentiment] += 1\n",
    "\n",
    "# Step 7: Visualization 📊\n",
    "plt.figure(figsize=(6,4))\n",
    "plt.bar(sentiment_counts.keys(), sentiment_counts.values(), color=['green','blue','yellow'])\n",
    "plt.title(\"Sentiment Distribution\")\n",
    "plt.xlabel(\"Sentiment\")\n",
    "plt.ylabel(\"Count\")\n",
    "plt.show()"
   ]
  }
 ],
 "metadata": {
  "kernelspec": {
   "display_name": "Python 3",
   "language": "python",
   "name": "python3"
  },
  "language_info": {
   "codemirror_mode": {
    "name": "ipython",
    "version": 3
   },
   "file_extension": ".py",
   "mimetype": "text/x-python",
   "name": "python",
   "nbconvert_exporter": "python",
   "pygments_lexer": "ipython3",
   "version": "3.13.2"
  }
 },
 "nbformat": 4,
 "nbformat_minor": 5
}
